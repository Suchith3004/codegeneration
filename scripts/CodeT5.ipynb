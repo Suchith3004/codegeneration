{
 "cells": [
  {
   "cell_type": "code",
   "execution_count": 4,
   "metadata": {
    "id": "z3KHBw7g5STC"
   },
   "outputs": [],
   "source": [
    "import pandas as pd\n",
    "import numpy as np\n",
    "import torch\n",
    "import torch.nn as nn\n",
    "import torch.nn.functional as F\n",
    "import torch.optim as optim\n",
    "from torch.utils.data import Dataset, DataLoader\n",
    "from sklearn import metrics\n",
    "from matplotlib import pyplot as plt \n",
    "from transformers import RobertaTokenizer, T5ForConditionalGeneration\n",
    "from collections import namedtuple\n",
    "%matplotlib inline"
   ]
  },
  {
   "cell_type": "markdown",
   "metadata": {},
   "source": [
    "### Set the language for the dataset"
   ]
  },
  {
   "cell_type": "code",
   "execution_count": null,
   "metadata": {},
   "outputs": [],
   "source": [
    "language = \"sql\"\n",
    "#language = \"py\""
   ]
  },
  {
   "cell_type": "markdown",
   "metadata": {},
   "source": [
    "### Check if GPU is avaialble for faster training/testing"
   ]
  },
  {
   "cell_type": "code",
   "execution_count": 2,
   "metadata": {},
   "outputs": [
    {
     "name": "stdout",
     "output_type": "stream",
     "text": [
      "GPU is available\n"
     ]
    }
   ],
   "source": [
    "# torch.cuda.is_available() checks and returns a Boolean True if a GPU is available, else it'll return False\n",
    "is_cuda = torch.cuda.is_available()\n",
    "\n",
    "# If we have a GPU available, we'll set our device to GPU. We'll use this device variable later in our code.\n",
    "if is_cuda:\n",
    "    device = torch.device(\"cuda\")\n",
    "    print(\"GPU is available\")\n",
    "else:\n",
    "    device = torch.device(\"cpu\")\n",
    "    print(\"GPU not available, CPU used\")"
   ]
  },
  {
   "cell_type": "markdown",
   "metadata": {},
   "source": [
    "## Set Constants"
   ]
  },
  {
   "cell_type": "markdown",
   "metadata": {},
   "source": [
    "#### For Local ipynb running"
   ]
  },
  {
   "cell_type": "code",
   "execution_count": 1,
   "metadata": {},
   "outputs": [],
   "source": [
    "# Set Constants\n",
    "BATCH_SIZE = 32\n",
    "EPOCH_SIZE = 5\n",
    "LEARNING_RATE = 0.00001\n",
    "MAX_SEQ_LEN = 100\n",
    "\n",
    "MODEL_PATH = './checkpoints/codet5/'        # path to store the trained model\n",
    "SAVED_MODEL = False                         # train the model (True) or use the saved model (False)\n",
    "\n",
    "LOG_STEP = 1                                # Frequency of epoch's for logging\n",
    "PARAMS_FILE = './training_parameters.json'  # File where input parameters (from cmdline) are stored\n",
    "LOG_FILE = './logs/log_codet5'              # Base file path for storing model training logs\n",
    "PL = 'python'                               # Programming language for fine-tuning the pretrained model\n",
    "DATA_SIZE = BATCH_SIZE * 50                 # Size of the raw dataset that will be used (batch size * 4 is just for testing)"
   ]
  },
  {
   "cell_type": "markdown",
   "metadata": {},
   "source": [
    "#### For rlogin running"
   ]
  },
  {
   "cell_type": "code",
   "execution_count": 2,
   "metadata": {},
   "outputs": [],
   "source": [
    "# ## Import Enviornment Variables from extenal file \n",
    "# if os.path.exists(PARAMS_FILE):\n",
    "#     # params = pd.read_csv(PARAMS_FILE)\n",
    "#     with open(PARAMS_FILE) as f:\n",
    "#         params = json.load(f)\n",
    "#     BATCH_SIZE = params['batch_size']\n",
    "#     EPOCH_SIZE = params['epoch_size']\n",
    "#     LEARNING_RATE = params['learning_rate']\n",
    "#     MAX_SEQ_LEN = params['max_seq_len']\n",
    "#     MODEL_PATH = os.path.join('checkpoints', params['pretrained'])\n",
    "#     SAVED_MODEL = params['saved_model']\n",
    "#     LOG_STEP = params['log_step']\n",
    "#     LOG_FILE = './logs/log_' + params['pretrained']\n",
    "#     PL = params['pl_task']\n",
    "#     DATA_SIZE = params['data_size']"
   ]
  },
  {
   "cell_type": "code",
   "execution_count": 6,
   "metadata": {},
   "outputs": [
    {
     "name": "stdout",
     "output_type": "stream",
     "text": [
      "Train Size:1280\n",
      "Test Size:160\n",
      "Validation Size:160\n"
     ]
    }
   ],
   "source": [
    "# Training DataLoader\n",
    "data_path = './StaQC_Data/' + PL + '_staqc.csv'\n",
    "train_loader, test_loader, val_loader = get_dataloader(data_path, BATCH_SIZE, DATA_SIZE, collate_func=collate_func)"
   ]
  },
  {
   "cell_type": "code",
   "execution_count": 5,
   "metadata": {
    "id": "Gz16RFfhGfy7"
   },
   "outputs": [],
   "source": [
    "def convert_examples_to_features(data,tokenizer=None,block_size=250):\n",
    "    #source\n",
    "    if tokenizer == None:\n",
    "        tokenizer = RobertaTokenizer.from_pretrained('Salesforce/codet5-base')\n",
    "    \n",
    "    code = data['code']\n",
    "    code_tokens=tokenizer.tokenize(code)[:block_size-2]\n",
    "    source_tokens =[tokenizer.cls_token]+code_tokens+[tokenizer.sep_token]\n",
    "    source_ids =  tokenizer.convert_tokens_to_ids(source_tokens)\n",
    "    padding_length = block_size - len(source_ids)\n",
    "    source_ids+=[tokenizer.pad_token_id]*padding_length\n",
    "    \n",
    "    summary = data['nl']\n",
    "    summary_tokens=tokenizer.tokenize(summary)[:block_size-2]\n",
    "    target_tokens =[tokenizer.cls_token]+summary_tokens+[tokenizer.sep_token]\n",
    "    target_ids =  tokenizer.convert_tokens_to_ids(target_tokens)\n",
    "    padding_length = block_size - len(target_ids)\n",
    "    target_ids+=[tokenizer.pad_token_id]*padding_length\n",
    "    \n",
    "    # Create attention masks for input_ids\n",
    "    source_mask = source_ids.ne(tokenizer.pad_token_id)\n",
    "    target_mask = target_ids.ne(tokenizer.pad_token_id)\n",
    "\n",
    "    InputFeatures = namedtuple(\"InputFeatures\", \n",
    "                               \"input_tokens input_ids input_mask target_tokens target_ids target_mask\")\n",
    "    \n",
    "    return InputFeatures(source_tokens, source_ids, source_mask, \n",
    "                         target_tokens, target_ids, target_mask)"
   ]
  },
  {
   "cell_type": "code",
   "execution_count": null,
   "metadata": {
    "id": "DgpSA06aQ0I1"
   },
   "outputs": [],
   "source": [
    "# Load trained and saved model if needed\n",
    "if SAVED_MODEL:\n",
    "    model = T5ForConditionalGeneration.from_pretrained(MODEL_PATH)\n",
    "else:\n",
    "    model = T5ForConditionalGeneration.from_pretrained('Salesforce/codet5-base')\n",
    "model.to(device)"
   ]
  },
  {
   "cell_type": "code",
   "execution_count": null,
   "metadata": {
    "colab": {
     "base_uri": "https://localhost:8080/"
    },
    "id": "BqGQtJ9KKQhZ",
    "outputId": "8a3fb2aa-3ece-496b-fbb4-b5aa2566cc5f"
   },
   "outputs": [
    {
     "name": "stdout",
     "output_type": "stream",
     "text": [
      "epoch 1 train loss 0.658901268586564 val loss 0.23784250385583716\n",
      "epoch 2 train loss 0.2587297257071676 val loss 0.19002097456696185\n",
      "epoch 3 train loss 0.20457230937985565 val loss 0.16847568797938367\n",
      "epoch 4 train loss 0.1761291783433943 val loss 0.15978937960685569\n",
      "epoch 5 train loss 0.15312632349447702 val loss 0.15360552956290702\n"
     ]
    }
   ],
   "source": [
    "train_loss_graph = [] #list to save training loss per epoch\n",
    "val_loss_graph = [] #list to save validation loss per epoch\n",
    "model.zero_grad()\n",
    "\n",
    "for idx in range(num_train_epochs): \n",
    "  #bar = tqdm(train_dataloader,total=len(train_dataloader))\n",
    "  #bar2 = tqdm(val_dataloader,total = len(val_dataloader))\n",
    "    tr_loss = 0.0\n",
    "    val_loss = 0.0\n",
    "    #train model\n",
    "    for batch in train_dataloader:\n",
    "        optimizer.zero_grad()\n",
    "        input_ids = batch[1].to(device) #input IDs\n",
    "        target_ids = batch[0].to(device) #targets\n",
    "        source_mask = input_ids.ne(tokenizer.pad_token_id)\n",
    "        target_mask = target_ids.ne(tokenizer.pad_token_id)\n",
    "\n",
    "        model.train()\n",
    "\n",
    "        model_out = model(input_ids=input_ids, attention_mask=source_mask,labels=target_ids, decoder_attention_mask=target_mask)\n",
    "        loss = model_out.loss\n",
    "        loss.backward() #backpropagation\n",
    "        optimizer.step()\n",
    "        tr_loss += loss.item()\n",
    "    epoch_loss = tr_loss/len(train_dataloader) #training loss per epoch\n",
    "\n",
    "    #validation\n",
    "    for batch in val_dataloader:\n",
    "        model.eval()\n",
    "\n",
    "        input_ids = batch[1].to(device) #input IDs\n",
    "        target_ids = batch[0].to(device) #targets\n",
    "        source_mask = input_ids.ne(tokenizer.pad_token_id)\n",
    "        target_mask = target_ids.ne(tokenizer.pad_token_id)\n",
    "        with torch.no_grad():\n",
    "        model_out = model(input_ids=input_ids, attention_mask=source_mask,labels=target_ids, decoder_attention_mask=target_mask)\n",
    "        v_loss = model_out.loss\n",
    "        val_loss +=v_loss.item()\n",
    "        \n",
    "    epoch_val_loss = val_loss/len(val_dataloader) #validation loss per epoch\n",
    "    print(\"epoch {} train loss {} val loss {}\".format(idx+1,epoch_loss,epoch_val_loss))\n",
    "    train_loss_graph.append(epoch_loss) \n",
    "    val_loss_graph.append(epoch_val_loss)\n",
    "    \n",
    "    #Save checkpoint\n",
    "    model.save_pretained(model_dir)"
   ]
  },
  {
   "cell_type": "code",
   "execution_count": null,
   "metadata": {
    "colab": {
     "base_uri": "https://localhost:8080/",
     "height": 282
    },
    "id": "R4XJYzGjQcS2",
    "outputId": "b6dee563-f48d-4d43-fa5a-22f91618d62b"
   },
   "outputs": [
    {
     "data": {
      "text/plain": [
       "[<matplotlib.lines.Line2D at 0x7f8798035610>]"
      ]
     },
     "execution_count": 38,
     "metadata": {},
     "output_type": "execute_result"
    },
    {
     "data": {
      "image/png": "[encoded data removed]",
      "text/plain": [
       "<Figure size 432x288 with 1 Axes>"
      ]
     },
     "metadata": {
      "needs_background": "light"
     },
     "output_type": "display_data"
    }
   ],
   "source": [
    "plt.plot(train_loss_graph)\n",
    "plt.plot(val_loss_graph)"
   ]
  },
  {
   "cell_type": "code",
   "execution_count": null,
   "metadata": {
    "id": "uZSv5vrlc2HR"
   },
   "outputs": [],
   "source": []
  }
 ],
 "metadata": {
  "accelerator": "GPU",
  "colab": {
   "collapsed_sections": [],
   "name": "CodeT5.ipynb",
   "provenance": []
  },
  "kernelspec": {
   "display_name": "Python 3 (ipykernel)",
   "language": "python",
   "name": "python3"
  },
  "language_info": {
   "codemirror_mode": {
    "name": "ipython",
    "version": 3
   },
   "file_extension": ".py",
   "mimetype": "text/x-python",
   "name": "python",
   "nbconvert_exporter": "python",
   "pygments_lexer": "ipython3",
   "version": "3.10.4"
  }
 },
 "nbformat": 4,
 "nbformat_minor": 4
}
