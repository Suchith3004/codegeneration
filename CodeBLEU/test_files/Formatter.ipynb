{
 "cells": [
  {
   "cell_type": "code",
   "execution_count": 1,
   "id": "f24f0316-378a-423e-89f1-34b7618f7b43",
   "metadata": {},
   "outputs": [],
   "source": [
    "import pandas as pd\n",
    "import json"
   ]
  },
  {
   "cell_type": "markdown",
   "id": "515a7b9c-6dfd-4ec1-a90d-a4bf0ac3c12a",
   "metadata": {},
   "source": [
    "#### Python"
   ]
  },
  {
   "cell_type": "code",
   "execution_count": 45,
   "id": "d3d5b89f-624b-4839-bab1-394263619307",
   "metadata": {
    "tags": []
   },
   "outputs": [],
   "source": [
    "with open(\"Predicted_Codes_PY_CodeBERT.json\") as f:\n",
    "    py_data = json.load(f)\n",
    "\n",
    "with open('./codebert_python/hypothesis.txt', 'w') as hyp:\n",
    "    for h in py_data['predicted_codes'].values():\n",
    "        h = ' '.join(h)\n",
    "        hyp.write(h + '\\n')"
   ]
  },
  {
   "cell_type": "code",
   "execution_count": 46,
   "id": "33df4b57-7190-4431-a193-a6022be4f5e5",
   "metadata": {
    "tags": []
   },
   "outputs": [],
   "source": [
    "test_data = pd.read_csv(\"Single_Ans_py.test.csv\")\n",
    "with open('./codebert_python/reference.txt', 'w', encoding=\"utf-8\") as ref:\n",
    "    for line in test_data['Code'][:2500]:\n",
    "        ref.write(' '.join(line.split()) + '\\n')"
   ]
  },
  {
   "cell_type": "markdown",
   "id": "d434089c-8c32-4f41-91a4-f7b851a91701",
   "metadata": {},
   "source": [
    "#### SQL"
   ]
  },
  {
   "cell_type": "code",
   "execution_count": 47,
   "id": "248cd1e0-67dd-4d88-b27b-c358194f9915",
   "metadata": {
    "tags": []
   },
   "outputs": [],
   "source": [
    "with open(\"Predicted_Codes_SQL_CodeBERT.json\") as f:\n",
    "    py_data = json.load(f)\n",
    "\n",
    "with open('./codebert_sql/hypothesis.txt', 'w') as hyp:\n",
    "    for h in py_data['predicted_codes'].values():\n",
    "        h = ' '.join(h)\n",
    "        hyp.write(h + '\\n')"
   ]
  },
  {
   "cell_type": "code",
   "execution_count": 48,
   "id": "876672f6-1fba-4a9d-a4bc-376ca96e6edb",
   "metadata": {
    "tags": []
   },
   "outputs": [],
   "source": [
    "test_data = pd.read_csv(\"Single_Ans_sql.test.csv\")\n",
    "with open('./codebert_sql/reference.txt', 'w', encoding=\"utf-8\") as ref:\n",
    "    for line in test_data['Code'][:2500]:\n",
    "        ref.write(' '.join(line.split()) + '\\n')"
   ]
  },
  {
   "cell_type": "markdown",
   "id": "988596d2-2c9e-42b0-a7c0-54531b0d5e97",
   "metadata": {},
   "source": [
    "### Uniform Reference File"
   ]
  },
  {
   "cell_type": "code",
   "execution_count": 38,
   "id": "253ff764-a21c-47a2-8653-88b43c6cc9d7",
   "metadata": {},
   "outputs": [],
   "source": [
    "py_test_data = pd.read_csv(\"../../staqc_data/python/test.csv\")\n",
    "sql_test_data = pd.read_csv(\"../../staqc_data/sql/test.csv\")"
   ]
  },
  {
   "cell_type": "code",
   "execution_count": 40,
   "id": "8838fc19-48a6-4de2-ac21-2864908eca4a",
   "metadata": {},
   "outputs": [],
   "source": [
    "with open(\"./Short_Reference_PY.txt\", 'w', encoding=\"utf-8\") as ref:\n",
    "    for line in py_test_data['Code'][:2500]:\n",
    "        ref.write(' '.join(line.split()) + '\\n')\n",
    "        \n",
    "with open(\"./Short_Reference_SQL.txt\", 'w', encoding=\"utf-8\") as ref:\n",
    "    for line in sql_test_data['Code'][:2500]:\n",
    "        ref.write(' '.join(line.split()) + '\\n') "
   ]
  },
  {
   "cell_type": "code",
   "execution_count": 41,
   "id": "1d399b90-5bd1-4945-8019-7c840323e0d3",
   "metadata": {},
   "outputs": [],
   "source": [
    "with open(\"./Full_Reference_PY.txt\", 'w', encoding=\"utf-8\") as ref:\n",
    "    for line in py_test_data['Code']:\n",
    "        ref.write(' '.join(line.split()) + '\\n')\n",
    "        \n",
    "with open(\"./Full_Reference_SQL.txt\", 'w', encoding=\"utf-8\") as ref:\n",
    "    for line in sql_test_data['Code']:\n",
    "        ref.write(' '.join(line.split()) + '\\n') "
   ]
  },
  {
   "cell_type": "code",
   "execution_count": null,
   "id": "437281bf-b97e-42da-804e-f586946274bb",
   "metadata": {},
   "outputs": [],
   "source": []
  }
 ],
 "metadata": {
  "kernelspec": {
   "display_name": "Python 3 (ipykernel)",
   "language": "python",
   "name": "python3"
  },
  "language_info": {
   "codemirror_mode": {
    "name": "ipython",
    "version": 3
   },
   "file_extension": ".py",
   "mimetype": "text/x-python",
   "name": "python",
   "nbconvert_exporter": "python",
   "pygments_lexer": "ipython3",
   "version": "3.10.4"
  }
 },
 "nbformat": 4,
 "nbformat_minor": 5
}
